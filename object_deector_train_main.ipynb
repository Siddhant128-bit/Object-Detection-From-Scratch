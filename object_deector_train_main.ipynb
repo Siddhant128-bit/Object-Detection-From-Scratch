{
 "cells": [
  {
   "attachments": {},
   "cell_type": "markdown",
   "metadata": {},
   "source": [
    "<h3> Instaling Depdencies </h3>\n",
    "<br>\n",
    "<p> let's install the required dependencies for the project </p>"
   ]
  },
  {
   "cell_type": "code",
   "execution_count": 1,
   "metadata": {},
   "outputs": [
    {
     "name": "stdout",
     "output_type": "stream",
     "text": [
      "Requirement already satisfied: lxml in c:\\users\\fm-pc-lt-233\\anaconda3\\envs\\cv_upskill_env\\lib\\site-packages (4.9.2)\n"
     ]
    }
   ],
   "source": [
    "!pip install lxml"
   ]
  },
  {
   "attachments": {},
   "cell_type": "markdown",
   "metadata": {},
   "source": [
    "<h3> Importing Dependencies </h3>\n",
    "<br>\n",
    "<p> For this particular project we are going to have following dependencies so far: </p>\n",
    "    <ul>\n",
    "        <li> opencv </li>\n",
    "        <li> xml </li>\n",
    "        <li> numpy </li>\n",
    "        <li> tensorflow </li>\n",
    "        <li> sklearn </li>\n",
    "    </ul>"
   ]
  },
  {
   "cell_type": "code",
   "execution_count": 7,
   "metadata": {},
   "outputs": [],
   "source": [
    "import cv2\n",
    "import xml.etree.ElementTree as ET\n",
    "import os\n",
    "import numpy as np "
   ]
  },
  {
   "attachments": {},
   "cell_type": "markdown",
   "metadata": {},
   "source": [
    "<h3> Data Preprocessing  </h3>\n",
    "\n",
    "<p>&nbsp; Here we are going to resize image to a standard size so that we can use it to resize the coordinates as well </p>"
   ]
  },
  {
   "cell_type": "code",
   "execution_count": 26,
   "metadata": {},
   "outputs": [],
   "source": [
    "def get_image_bound_it(path,display_flag):\n",
    "    img=cv2.imread(path)\n",
    "\n",
    "    #Let's scale image down and also adjust its cordinate accordingly:\n",
    "    x_=img.shape[1]\n",
    "    y_=img.shape[0]\n",
    "\n",
    "    target_size=200\n",
    "    img=cv2.resize(img,(target_size,target_size))\n",
    "    xscale=target_size/x_\n",
    "    yscale=target_size/y_\n",
    "    # We are going to use xcale and yscale to get the new cordinate by rounding off with this product value \n",
    "\n",
    "    tree = ET.parse(path.replace('.jpg','.xml'))\n",
    "    root = tree.getroot()\n",
    "\n",
    "    boxes=[]\n",
    "    for child in root.findall('object'):\n",
    "        #print(child.find('name').text)\n",
    "        boxes.append([int(np.round(int(child.find('bndbox/xmin').text)*xscale)),int(np.round(int(child.find('bndbox/ymin').text)*yscale)),int(np.round(int(child.find('bndbox/xmax').text)*xscale)),int(np.round(int(child.find('bndbox/ymax').text)*yscale))])\n",
    "    \n",
    "    if display_flag==1:\n",
    "        try:\n",
    "            cv2.imshow('Image',img)\n",
    "            cv2.waitKey(0)\n",
    "        except:\n",
    "            pass\n",
    "        \n",
    "        for box in boxes:\n",
    "            color = (255, 0, 0)\n",
    "            thickness = 2 \n",
    "            img=cv2.rectangle(img,(box[0],box[1]),(box[2],box[3]),color,thickness)\n",
    "        try:\n",
    "            cv2.imshow(\"Image\",img)\n",
    "            cv2.waitKey(0)\n",
    "            cv2.destroyAllWindows()\n",
    "        except:\n",
    "            pass\n",
    "\n"
   ]
  },
  {
   "attachments": {},
   "cell_type": "markdown",
   "metadata": {},
   "source": [
    "<h4> Batch Data Processing </h4>"
   ]
  },
  {
   "cell_type": "code",
   "execution_count": 28,
   "metadata": {},
   "outputs": [
    {
     "name": "stdout",
     "output_type": "stream",
     "text": [
      "apple_1.jpg\n",
      "apple_1.xml\n"
     ]
    },
    {
     "ename": "AttributeError",
     "evalue": "'NoneType' object has no attribute 'shape'",
     "output_type": "error",
     "traceback": [
      "\u001b[1;31m---------------------------------------------------------------------------\u001b[0m",
      "\u001b[1;31mAttributeError\u001b[0m                            Traceback (most recent call last)",
      "Cell \u001b[1;32mIn[28], line 3\u001b[0m\n\u001b[0;32m      1\u001b[0m \u001b[39mfor\u001b[39;00m file \u001b[39min\u001b[39;00m os\u001b[39m.\u001b[39mlistdir(\u001b[39m'\u001b[39m\u001b[39mtrain_zip/train\u001b[39m\u001b[39m'\u001b[39m):\n\u001b[0;32m      2\u001b[0m     \u001b[39mprint\u001b[39m(file)\n\u001b[1;32m----> 3\u001b[0m     get_image_bound_it(\u001b[39m'\u001b[39;49m\u001b[39mtrain_zip/train/\u001b[39;49m\u001b[39m'\u001b[39;49m\u001b[39m+\u001b[39;49mfile,\u001b[39m0\u001b[39;49m)\n",
      "Cell \u001b[1;32mIn[26], line 5\u001b[0m, in \u001b[0;36mget_image_bound_it\u001b[1;34m(path, display_flag)\u001b[0m\n\u001b[0;32m      2\u001b[0m img\u001b[39m=\u001b[39mcv2\u001b[39m.\u001b[39mimread(path)\n\u001b[0;32m      4\u001b[0m \u001b[39m#Let's scale image down and also adjust its cordinate accordingly:\u001b[39;00m\n\u001b[1;32m----> 5\u001b[0m x_\u001b[39m=\u001b[39mimg\u001b[39m.\u001b[39;49mshape[\u001b[39m1\u001b[39m]\n\u001b[0;32m      6\u001b[0m y_\u001b[39m=\u001b[39mimg\u001b[39m.\u001b[39mshape[\u001b[39m0\u001b[39m]\n\u001b[0;32m      8\u001b[0m target_size\u001b[39m=\u001b[39m\u001b[39m200\u001b[39m\n",
      "\u001b[1;31mAttributeError\u001b[0m: 'NoneType' object has no attribute 'shape'"
     ]
    }
   ],
   "source": [
    "for file in os.listdir('train_zip/train'):\n",
    "    if file.endswith('.jpg'):\n",
    "        get_image_bound_it('train_zip/train/'+file,0)"
   ]
  },
  {
   "cell_type": "code",
   "execution_count": null,
   "metadata": {},
   "outputs": [],
   "source": []
  }
 ],
 "metadata": {
  "kernelspec": {
   "display_name": "CV_upskill_env",
   "language": "python",
   "name": "python3"
  },
  "language_info": {
   "codemirror_mode": {
    "name": "ipython",
    "version": 3
   },
   "file_extension": ".py",
   "mimetype": "text/x-python",
   "name": "python",
   "nbconvert_exporter": "python",
   "pygments_lexer": "ipython3",
   "version": "3.10.9"
  },
  "orig_nbformat": 4
 },
 "nbformat": 4,
 "nbformat_minor": 2
}
